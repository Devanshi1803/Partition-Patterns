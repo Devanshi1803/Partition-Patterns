{
 "cells": [
  {
   "cell_type": "code",
   "execution_count": 1,
   "metadata": {},
   "outputs": [],
   "source": [
    "import pandas as pd\n",
    "import psycopg2\n",
    "conn = psycopg2.connect(database=\"202011060_db\", user = \"postgres\", password = \"admin\", host = \"localhost\", port = \"5432\",options=\"-c search_path=project\")"
   ]
  },
  {
   "cell_type": "code",
   "execution_count": 2,
   "metadata": {},
   "outputs": [
    {
     "data": {
      "text/plain": [
       "['floor', 'room', 'week', 'day']"
      ]
     },
     "execution_count": 2,
     "metadata": {},
     "output_type": "execute_result"
    }
   ],
   "source": [
    "A='floor, room, week, day'\n",
    "B = A.replace(\" \",\"\")\n",
    "A_list = B.split(',')\n",
    "A_list"
   ]
  },
  {
   "cell_type": "code",
   "execution_count": 3,
   "metadata": {},
   "outputs": [],
   "source": [
    "#Generate F,S and T table \n",
    "#T=original table without aggregate attribute (attributes present in A)(reference table)\n",
    "#S=table with not null values or null values (all attributes)\n",
    "#F=whole table\n",
    "cur = conn.cursor()\n",
    "table_name = 'data1'\n",
    "\n",
    "query_F = 'select * from '+table_name\n",
    "cur.execute(query_F)\n",
    "ans_F=cur.fetchall()\n",
    "F = pd.DataFrame(ans_F, columns=['floor','room','week','day','kwh'])\n",
    "\n",
    "query_T = 'select '+A+ ' from '+table_name\n",
    "cur.execute(query_T)\n",
    "ans_T=cur.fetchall()\n",
    "T = pd.DataFrame(ans_T, columns=['floor','room','week','day'])\n",
    "\n",
    "\n",
    "query_S = 'select '+A+' from '+table_name+' where kwh is null'\n",
    "cur.execute(query_S)\n",
    "ans_S=cur.fetchall()\n",
    "S = pd.DataFrame(ans_S, columns=['floor','room','week','day'])\n",
    "\n",
    "cur.close()"
   ]
  },
  {
   "cell_type": "code",
   "execution_count": null,
   "metadata": {},
   "outputs": [],
   "source": []
  }
 ],
 "metadata": {
  "kernelspec": {
   "display_name": "Python 3",
   "language": "python",
   "name": "python3"
  },
  "language_info": {
   "codemirror_mode": {
    "name": "ipython",
    "version": 3
   },
   "file_extension": ".py",
   "mimetype": "text/x-python",
   "name": "python",
   "nbconvert_exporter": "python",
   "pygments_lexer": "ipython3",
   "version": "3.8.3"
  }
 },
 "nbformat": 4,
 "nbformat_minor": 4
}
